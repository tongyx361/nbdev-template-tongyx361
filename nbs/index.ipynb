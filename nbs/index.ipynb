{
 "cells": [
  {
   "cell_type": "code",
   "execution_count": null,
   "metadata": {},
   "outputs": [],
   "source": [
    "%load_ext autoreload\n",
    "%autoreload 2"
   ]
  },
  {
   "cell_type": "markdown",
   "metadata": {},
   "source": [
    "# `nbdev` Template @tongyx361\n"
   ]
  },
  {
   "cell_type": "markdown",
   "metadata": {},
   "source": [
    "## Setup\n",
    "\n",
    "We recommend:\n",
    "\n",
    "- using [Conda](https://docs.conda.io/projects/miniconda) to set up the **basic Python environment** and install some **non-Python packages** like `git-lfs` when **without the root permission**;\n",
    "- using [`pip`](https://pip.pypa.io/en/stable/#) to manage the **Python packages** because some packages are **only available via `pip`**.\n",
    "\n",
    "Run the following commands to setup the **basic environment** and **install most dependencies**:\n",
    "\n",
    "```shell\n",
    "git clone https://github.com/tongyx361/nbdev-template-tongyx361.git\n",
    "cd nbdev-template-tongyx361\n",
    "# Configure settings.ini, environment.yml, pkg_name\n",
    "conda env create -f environment.yml\n",
    "conda activate myenv\n",
    "pip install -r requirements.txt\n",
    "```\n",
    "\n",
    "For common users/developers, please just run the following command the install the `dart-math` package:\n",
    "\n",
    "```shell\n",
    "pip install -e \".\"\n",
    "```\n",
    "\n",
    "For intended contributors, we recommend installing the package with the `dev` extras and setting up the pre-commit hooks by running:\n",
    "\n",
    "```shell\n",
    "pip install -e \".[dev]\"\n",
    "pre-commit install\n",
    "```\n"
   ]
  },
  {
   "cell_type": "markdown",
   "metadata": {},
   "source": [
    "## Contribution Guidelines\n",
    "\n",
    "### File Structure\n",
    "\n",
    "```\n",
    "nbdev_template_tongyx361\n",
    "├── data\n",
    "├── utils # Repository utilities\n",
    "├── pkg_name # Package code for common utilities\n",
    "├── nbs # Notebooks and other files to run tests and generate documentation with https://nbdev.fast.ai\n",
    "├── [pipelines] # Reusable (Python / Shell) scripts or notebooks\n",
    "└── [scripts] # One-time scripts\n",
    "```\n",
    "\n",
    "### Checklist Before Commit\n",
    "\n",
    "Run the [`prepare-commit.sh`](utils/prepare-commit.sh) to clean the notebooks and export scripts for pipeline notebooks, generate documentation, run tests, render README if needed:\n",
    "\n",
    "```\n",
    "bash utils/prepare-commit.sh\n",
    "```\n"
   ]
  }
 ],
 "metadata": {
  "kernelspec": {
   "display_name": "python3",
   "language": "python",
   "name": "python3"
  }
 },
 "nbformat": 4,
 "nbformat_minor": 4
}
